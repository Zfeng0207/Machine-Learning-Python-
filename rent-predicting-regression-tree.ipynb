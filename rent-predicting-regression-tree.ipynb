{
 "cells": [
  {
   "cell_type": "markdown",
   "id": "64132a2d",
   "metadata": {
    "papermill": {
     "duration": 0.007193,
     "end_time": "2024-04-01T02:13:40.288148",
     "exception": false,
     "start_time": "2024-04-01T02:13:40.280955",
     "status": "completed"
    },
    "tags": []
   },
   "source": [
    "## Regression Trees"
   ]
  },
  {
   "cell_type": "code",
   "execution_count": 1,
   "id": "4ca1208f",
   "metadata": {
    "execution": {
     "iopub.execute_input": "2024-04-01T02:13:40.303156Z",
     "iopub.status.busy": "2024-04-01T02:13:40.302761Z",
     "iopub.status.idle": "2024-04-01T02:13:42.633002Z",
     "shell.execute_reply": "2024-04-01T02:13:42.631915Z"
    },
    "papermill": {
     "duration": 2.341399,
     "end_time": "2024-04-01T02:13:42.636345",
     "exception": false,
     "start_time": "2024-04-01T02:13:40.294946",
     "status": "completed"
    },
    "tags": []
   },
   "outputs": [],
   "source": [
    "# Pandas will allow us to create a dataframe of the data so it can be used and manipulated\n",
    "import pandas as pd\n",
    "# Regression Tree Algorithm\n",
    "from sklearn.tree import DecisionTreeRegressor\n",
    "# Split our data into a training and testing data\n",
    "from sklearn.model_selection import train_test_split"
   ]
  },
  {
   "cell_type": "markdown",
   "id": "93bccc02",
   "metadata": {
    "papermill": {
     "duration": 0.00629,
     "end_time": "2024-04-01T02:13:42.649259",
     "exception": false,
     "start_time": "2024-04-01T02:13:42.642969",
     "status": "completed"
    },
    "tags": []
   },
   "source": [
    "## Project Aim\n",
    "\n",
    "##### In this project, I am a data scientist that is working for a real estate company that is planning to invest in Malaysian real estate. I have collected information about various areas of Boston and are tasked with creating a model that can predict the median price of rental of houses for that area so it can be used to make offers"
   ]
  },
  {
   "cell_type": "code",
   "execution_count": 2,
   "id": "cf89b8a9",
   "metadata": {
    "execution": {
     "iopub.execute_input": "2024-04-01T02:13:42.664341Z",
     "iopub.status.busy": "2024-04-01T02:13:42.663794Z",
     "iopub.status.idle": "2024-04-01T02:13:42.826639Z",
     "shell.execute_reply": "2024-04-01T02:13:42.825754Z"
    },
    "papermill": {
     "duration": 0.173556,
     "end_time": "2024-04-01T02:13:42.829233",
     "exception": false,
     "start_time": "2024-04-01T02:13:42.655677",
     "status": "completed"
    },
    "tags": []
   },
   "outputs": [],
   "source": [
    "data = pd.read_csv('/kaggle/input/rent-pricing-kuala-lumpur-malaysi/mudah-apartment-kl-selangor.csv')\n"
   ]
  },
  {
   "cell_type": "code",
   "execution_count": 3,
   "id": "3cb593cd",
   "metadata": {
    "execution": {
     "iopub.execute_input": "2024-04-01T02:13:42.844276Z",
     "iopub.status.busy": "2024-04-01T02:13:42.843607Z",
     "iopub.status.idle": "2024-04-01T02:13:42.878763Z",
     "shell.execute_reply": "2024-04-01T02:13:42.877663Z"
    },
    "papermill": {
     "duration": 0.045457,
     "end_time": "2024-04-01T02:13:42.881164",
     "exception": false,
     "start_time": "2024-04-01T02:13:42.835707",
     "status": "completed"
    },
    "tags": []
   },
   "outputs": [
    {
     "data": {
      "text/plain": [
       "ads_id                      0\n",
       "prop_name                 948\n",
       "completion_year          9185\n",
       "monthly_rent                2\n",
       "location                    0\n",
       "property_type               0\n",
       "rooms                       6\n",
       "parking                  5702\n",
       "bathroom                    6\n",
       "size                        0\n",
       "furnished                   5\n",
       "facilities               2209\n",
       "additional_facilities    5948\n",
       "region                      0\n",
       "dtype: int64"
      ]
     },
     "execution_count": 3,
     "metadata": {},
     "output_type": "execute_result"
    }
   ],
   "source": [
    "data.head()\n",
    "data.shape\n",
    "data.isna().sum()"
   ]
  },
  {
   "cell_type": "markdown",
   "id": "f4ff7883",
   "metadata": {
    "papermill": {
     "duration": 0.006301,
     "end_time": "2024-04-01T02:13:42.894135",
     "exception": false,
     "start_time": "2024-04-01T02:13:42.887834",
     "status": "completed"
    },
    "tags": []
   },
   "source": [
    "## Data Pre-Processing"
   ]
  },
  {
   "cell_type": "code",
   "execution_count": 4,
   "id": "7e0c9fb9",
   "metadata": {
    "execution": {
     "iopub.execute_input": "2024-04-01T02:13:42.910065Z",
     "iopub.status.busy": "2024-04-01T02:13:42.909686Z",
     "iopub.status.idle": "2024-04-01T02:13:42.943218Z",
     "shell.execute_reply": "2024-04-01T02:13:42.942229Z"
    },
    "papermill": {
     "duration": 0.044689,
     "end_time": "2024-04-01T02:13:42.945835",
     "exception": false,
     "start_time": "2024-04-01T02:13:42.901146",
     "status": "completed"
    },
    "tags": []
   },
   "outputs": [],
   "source": [
    "data.dropna(inplace=True)"
   ]
  },
  {
   "cell_type": "code",
   "execution_count": 5,
   "id": "0b347850",
   "metadata": {
    "execution": {
     "iopub.execute_input": "2024-04-01T02:13:42.960751Z",
     "iopub.status.busy": "2024-04-01T02:13:42.960350Z",
     "iopub.status.idle": "2024-04-01T02:13:43.129906Z",
     "shell.execute_reply": "2024-04-01T02:13:43.128802Z"
    },
    "papermill": {
     "duration": 0.179744,
     "end_time": "2024-04-01T02:13:43.132338",
     "exception": false,
     "start_time": "2024-04-01T02:13:42.952594",
     "status": "completed"
    },
    "tags": []
   },
   "outputs": [
    {
     "data": {
      "text/html": [
       "<div>\n",
       "<style scoped>\n",
       "    .dataframe tbody tr th:only-of-type {\n",
       "        vertical-align: middle;\n",
       "    }\n",
       "\n",
       "    .dataframe tbody tr th {\n",
       "        vertical-align: top;\n",
       "    }\n",
       "\n",
       "    .dataframe thead th {\n",
       "        text-align: right;\n",
       "    }\n",
       "</style>\n",
       "<table border=\"1\" class=\"dataframe\">\n",
       "  <thead>\n",
       "    <tr style=\"text-align: right;\">\n",
       "      <th></th>\n",
       "      <th>completion_year</th>\n",
       "      <th>monthly_rent</th>\n",
       "      <th>property_type</th>\n",
       "      <th>rooms</th>\n",
       "      <th>parking</th>\n",
       "      <th>bathroom</th>\n",
       "      <th>size</th>\n",
       "      <th>furnished</th>\n",
       "      <th>facilities</th>\n",
       "      <th>additional_facilities</th>\n",
       "    </tr>\n",
       "  </thead>\n",
       "  <tbody>\n",
       "    <tr>\n",
       "      <th>0</th>\n",
       "      <td>2022</td>\n",
       "      <td>4200</td>\n",
       "      <td>0</td>\n",
       "      <td>5</td>\n",
       "      <td>2</td>\n",
       "      <td>6</td>\n",
       "      <td>1842</td>\n",
       "      <td>1</td>\n",
       "      <td>10</td>\n",
       "      <td>3</td>\n",
       "    </tr>\n",
       "    <tr>\n",
       "      <th>3</th>\n",
       "      <td>2020</td>\n",
       "      <td>1700</td>\n",
       "      <td>1</td>\n",
       "      <td>2</td>\n",
       "      <td>1</td>\n",
       "      <td>2</td>\n",
       "      <td>743</td>\n",
       "      <td>1</td>\n",
       "      <td>8</td>\n",
       "      <td>3</td>\n",
       "    </tr>\n",
       "    <tr>\n",
       "      <th>7</th>\n",
       "      <td>2018</td>\n",
       "      <td>1550</td>\n",
       "      <td>2</td>\n",
       "      <td>1</td>\n",
       "      <td>1</td>\n",
       "      <td>1</td>\n",
       "      <td>700</td>\n",
       "      <td>1</td>\n",
       "      <td>7</td>\n",
       "      <td>4</td>\n",
       "    </tr>\n",
       "    <tr>\n",
       "      <th>8</th>\n",
       "      <td>2014</td>\n",
       "      <td>1400</td>\n",
       "      <td>1</td>\n",
       "      <td>2</td>\n",
       "      <td>1</td>\n",
       "      <td>1</td>\n",
       "      <td>750</td>\n",
       "      <td>1</td>\n",
       "      <td>5</td>\n",
       "      <td>4</td>\n",
       "    </tr>\n",
       "    <tr>\n",
       "      <th>11</th>\n",
       "      <td>2022</td>\n",
       "      <td>2000</td>\n",
       "      <td>2</td>\n",
       "      <td>4</td>\n",
       "      <td>2</td>\n",
       "      <td>2</td>\n",
       "      <td>1100</td>\n",
       "      <td>1</td>\n",
       "      <td>9</td>\n",
       "      <td>4</td>\n",
       "    </tr>\n",
       "  </tbody>\n",
       "</table>\n",
       "</div>"
      ],
      "text/plain": [
       "    completion_year  monthly_rent  property_type rooms  parking  bathroom  \\\n",
       "0              2022          4200              0     5        2         6   \n",
       "3              2020          1700              1     2        1         2   \n",
       "7              2018          1550              2     1        1         1   \n",
       "8              2014          1400              1     2        1         1   \n",
       "11             2022          2000              2     4        2         2   \n",
       "\n",
       "     size  furnished  facilities  additional_facilities  \n",
       "0   1842           1          10                      3  \n",
       "3    743           1           8                      3  \n",
       "7    700           1           7                      4  \n",
       "8    750           1           5                      4  \n",
       "11  1100           1           9                      4  "
      ]
     },
     "execution_count": 5,
     "metadata": {},
     "output_type": "execute_result"
    }
   ],
   "source": [
    "data['monthly_rent'] = (data['monthly_rent'].str.replace('RM ','', regex=False).str.replace(' per month', '', regex=False).str.replace(' ','',regex=True))\n",
    "data['size'] = (data['size'].str.replace('sq.ft.','', regex=False))\n",
    "data.drop(columns=['location','ads_id','prop_name','region'], inplace=True)\n",
    "data['property_type'] = pd.factorize(data['property_type'])[0]\n",
    "data['furnished'] = data['furnished'].str.split(',').str.len()\n",
    "data['facilities'] = data['facilities'].str.split(',').str.len()\n",
    "data['monthly_rent'] = data['monthly_rent'].astype(int)\n",
    "data['additional_facilities'] = data['additional_facilities'].str.split(',').str.len()\n",
    "numeric_cols = data.select_dtypes(include=['float', 'int']).columns\n",
    "data[numeric_cols] = data[numeric_cols].fillna(0).astype(int)\n",
    "\n",
    "data.head()\n"
   ]
  },
  {
   "cell_type": "code",
   "execution_count": 6,
   "id": "a32388bc",
   "metadata": {
    "execution": {
     "iopub.execute_input": "2024-04-01T02:13:43.148424Z",
     "iopub.status.busy": "2024-04-01T02:13:43.147531Z",
     "iopub.status.idle": "2024-04-01T02:13:43.159712Z",
     "shell.execute_reply": "2024-04-01T02:13:43.158698Z"
    },
    "papermill": {
     "duration": 0.022771,
     "end_time": "2024-04-01T02:13:43.162119",
     "exception": false,
     "start_time": "2024-04-01T02:13:43.139348",
     "status": "completed"
    },
    "tags": []
   },
   "outputs": [],
   "source": [
    "X = data.drop(columns=[\"monthly_rent\"])\n",
    "Y = data[\"monthly_rent\"]\n",
    "\n",
    "X_train, X_test, Y_train, Y_test = train_test_split(X, Y, test_size=.2, random_state=1)\n"
   ]
  },
  {
   "cell_type": "markdown",
   "id": "2aabfbe5",
   "metadata": {
    "papermill": {
     "duration": 0.006532,
     "end_time": "2024-04-01T02:13:43.175766",
     "exception": false,
     "start_time": "2024-04-01T02:13:43.169234",
     "status": "completed"
    },
    "tags": []
   },
   "source": [
    "## Create Regression Tree"
   ]
  },
  {
   "cell_type": "markdown",
   "id": "7c686a09",
   "metadata": {
    "papermill": {
     "duration": 0.007034,
     "end_time": "2024-04-01T02:13:43.189698",
     "exception": false,
     "start_time": "2024-04-01T02:13:43.182664",
     "status": "completed"
    },
    "tags": []
   },
   "source": [
    "Regression Trees are implemented using `DecisionTreeRegressor` from `sklearn.tree`\n",
    "\n",
    "The important parameters of `DecisionTreeRegressor` are\n",
    "\n",
    "`criterion`: {\"mse\", \"friedman_mse\", \"mae\", \"poisson\"} - The function used to measure error\n",
    "\n",
    "`max_depth` - The max depth the tree can be\n",
    "\n",
    "`min_samples_split` - The minimum number of samples required to split a node\n",
    "\n",
    "`min_samples_leaf` - The minimum number of samples that a leaf can contain\n",
    "\n",
    "`max_features`: {\"auto\", \"sqrt\", \"log2\"} - The number of feature we examine looking for the best one, used to speed up training\n"
   ]
  },
  {
   "cell_type": "code",
   "execution_count": 7,
   "id": "7570b4a8",
   "metadata": {
    "execution": {
     "iopub.execute_input": "2024-04-01T02:13:43.205115Z",
     "iopub.status.busy": "2024-04-01T02:13:43.204741Z",
     "iopub.status.idle": "2024-04-01T02:13:43.209312Z",
     "shell.execute_reply": "2024-04-01T02:13:43.208263Z"
    },
    "papermill": {
     "duration": 0.0152,
     "end_time": "2024-04-01T02:13:43.211678",
     "exception": false,
     "start_time": "2024-04-01T02:13:43.196478",
     "status": "completed"
    },
    "tags": []
   },
   "outputs": [],
   "source": [
    "regression_tree = DecisionTreeRegressor(criterion = 'squared_error')"
   ]
  },
  {
   "cell_type": "markdown",
   "id": "1c3e2bfd",
   "metadata": {
    "papermill": {
     "duration": 0.006784,
     "end_time": "2024-04-01T02:13:43.225512",
     "exception": false,
     "start_time": "2024-04-01T02:13:43.218728",
     "status": "completed"
    },
    "tags": []
   },
   "source": [
    "## Training"
   ]
  },
  {
   "cell_type": "code",
   "execution_count": 8,
   "id": "53570a59",
   "metadata": {
    "execution": {
     "iopub.execute_input": "2024-04-01T02:13:43.240938Z",
     "iopub.status.busy": "2024-04-01T02:13:43.240578Z",
     "iopub.status.idle": "2024-04-01T02:13:43.278243Z",
     "shell.execute_reply": "2024-04-01T02:13:43.277116Z"
    },
    "papermill": {
     "duration": 0.048484,
     "end_time": "2024-04-01T02:13:43.280815",
     "exception": false,
     "start_time": "2024-04-01T02:13:43.232331",
     "status": "completed"
    },
    "tags": []
   },
   "outputs": [
    {
     "data": {
      "text/html": [
       "<style>#sk-container-id-1 {color: black;background-color: white;}#sk-container-id-1 pre{padding: 0;}#sk-container-id-1 div.sk-toggleable {background-color: white;}#sk-container-id-1 label.sk-toggleable__label {cursor: pointer;display: block;width: 100%;margin-bottom: 0;padding: 0.3em;box-sizing: border-box;text-align: center;}#sk-container-id-1 label.sk-toggleable__label-arrow:before {content: \"▸\";float: left;margin-right: 0.25em;color: #696969;}#sk-container-id-1 label.sk-toggleable__label-arrow:hover:before {color: black;}#sk-container-id-1 div.sk-estimator:hover label.sk-toggleable__label-arrow:before {color: black;}#sk-container-id-1 div.sk-toggleable__content {max-height: 0;max-width: 0;overflow: hidden;text-align: left;background-color: #f0f8ff;}#sk-container-id-1 div.sk-toggleable__content pre {margin: 0.2em;color: black;border-radius: 0.25em;background-color: #f0f8ff;}#sk-container-id-1 input.sk-toggleable__control:checked~div.sk-toggleable__content {max-height: 200px;max-width: 100%;overflow: auto;}#sk-container-id-1 input.sk-toggleable__control:checked~label.sk-toggleable__label-arrow:before {content: \"▾\";}#sk-container-id-1 div.sk-estimator input.sk-toggleable__control:checked~label.sk-toggleable__label {background-color: #d4ebff;}#sk-container-id-1 div.sk-label input.sk-toggleable__control:checked~label.sk-toggleable__label {background-color: #d4ebff;}#sk-container-id-1 input.sk-hidden--visually {border: 0;clip: rect(1px 1px 1px 1px);clip: rect(1px, 1px, 1px, 1px);height: 1px;margin: -1px;overflow: hidden;padding: 0;position: absolute;width: 1px;}#sk-container-id-1 div.sk-estimator {font-family: monospace;background-color: #f0f8ff;border: 1px dotted black;border-radius: 0.25em;box-sizing: border-box;margin-bottom: 0.5em;}#sk-container-id-1 div.sk-estimator:hover {background-color: #d4ebff;}#sk-container-id-1 div.sk-parallel-item::after {content: \"\";width: 100%;border-bottom: 1px solid gray;flex-grow: 1;}#sk-container-id-1 div.sk-label:hover label.sk-toggleable__label {background-color: #d4ebff;}#sk-container-id-1 div.sk-serial::before {content: \"\";position: absolute;border-left: 1px solid gray;box-sizing: border-box;top: 0;bottom: 0;left: 50%;z-index: 0;}#sk-container-id-1 div.sk-serial {display: flex;flex-direction: column;align-items: center;background-color: white;padding-right: 0.2em;padding-left: 0.2em;position: relative;}#sk-container-id-1 div.sk-item {position: relative;z-index: 1;}#sk-container-id-1 div.sk-parallel {display: flex;align-items: stretch;justify-content: center;background-color: white;position: relative;}#sk-container-id-1 div.sk-item::before, #sk-container-id-1 div.sk-parallel-item::before {content: \"\";position: absolute;border-left: 1px solid gray;box-sizing: border-box;top: 0;bottom: 0;left: 50%;z-index: -1;}#sk-container-id-1 div.sk-parallel-item {display: flex;flex-direction: column;z-index: 1;position: relative;background-color: white;}#sk-container-id-1 div.sk-parallel-item:first-child::after {align-self: flex-end;width: 50%;}#sk-container-id-1 div.sk-parallel-item:last-child::after {align-self: flex-start;width: 50%;}#sk-container-id-1 div.sk-parallel-item:only-child::after {width: 0;}#sk-container-id-1 div.sk-dashed-wrapped {border: 1px dashed gray;margin: 0 0.4em 0.5em 0.4em;box-sizing: border-box;padding-bottom: 0.4em;background-color: white;}#sk-container-id-1 div.sk-label label {font-family: monospace;font-weight: bold;display: inline-block;line-height: 1.2em;}#sk-container-id-1 div.sk-label-container {text-align: center;}#sk-container-id-1 div.sk-container {/* jupyter's `normalize.less` sets `[hidden] { display: none; }` but bootstrap.min.css set `[hidden] { display: none !important; }` so we also need the `!important` here to be able to override the default hidden behavior on the sphinx rendered scikit-learn.org. See: https://github.com/scikit-learn/scikit-learn/issues/21755 */display: inline-block !important;position: relative;}#sk-container-id-1 div.sk-text-repr-fallback {display: none;}</style><div id=\"sk-container-id-1\" class=\"sk-top-container\"><div class=\"sk-text-repr-fallback\"><pre>DecisionTreeRegressor()</pre><b>In a Jupyter environment, please rerun this cell to show the HTML representation or trust the notebook. <br />On GitHub, the HTML representation is unable to render, please try loading this page with nbviewer.org.</b></div><div class=\"sk-container\" hidden><div class=\"sk-item\"><div class=\"sk-estimator sk-toggleable\"><input class=\"sk-toggleable__control sk-hidden--visually\" id=\"sk-estimator-id-1\" type=\"checkbox\" checked><label for=\"sk-estimator-id-1\" class=\"sk-toggleable__label sk-toggleable__label-arrow\">DecisionTreeRegressor</label><div class=\"sk-toggleable__content\"><pre>DecisionTreeRegressor()</pre></div></div></div></div></div>"
      ],
      "text/plain": [
       "DecisionTreeRegressor()"
      ]
     },
     "execution_count": 8,
     "metadata": {},
     "output_type": "execute_result"
    }
   ],
   "source": [
    "regression_tree.fit(X_train, Y_train)"
   ]
  },
  {
   "cell_type": "markdown",
   "id": "e7f24dd2",
   "metadata": {
    "papermill": {
     "duration": 0.006866,
     "end_time": "2024-04-01T02:13:43.295102",
     "exception": false,
     "start_time": "2024-04-01T02:13:43.288236",
     "status": "completed"
    },
    "tags": []
   },
   "source": [
    "## Evaluation\n"
   ]
  },
  {
   "cell_type": "code",
   "execution_count": 9,
   "id": "3aa4c032",
   "metadata": {
    "execution": {
     "iopub.execute_input": "2024-04-01T02:13:43.312301Z",
     "iopub.status.busy": "2024-04-01T02:13:43.311890Z",
     "iopub.status.idle": "2024-04-01T02:13:43.323706Z",
     "shell.execute_reply": "2024-04-01T02:13:43.322734Z"
    },
    "papermill": {
     "duration": 0.022843,
     "end_time": "2024-04-01T02:13:43.325974",
     "exception": false,
     "start_time": "2024-04-01T02:13:43.303131",
     "status": "completed"
    },
    "tags": []
   },
   "outputs": [
    {
     "data": {
      "text/plain": [
       "-12.478508927275906"
      ]
     },
     "execution_count": 9,
     "metadata": {},
     "output_type": "execute_result"
    }
   ],
   "source": [
    "regression_tree.score(X_test, Y_test)"
   ]
  },
  {
   "cell_type": "markdown",
   "id": "20d0d371",
   "metadata": {
    "papermill": {
     "duration": 0.006956,
     "end_time": "2024-04-01T02:13:43.340647",
     "exception": false,
     "start_time": "2024-04-01T02:13:43.333691",
     "status": "completed"
    },
    "tags": []
   },
   "source": [
    "Finding the average error in our testing set which is the average error in rental predicition\n"
   ]
  },
  {
   "cell_type": "code",
   "execution_count": 10,
   "id": "c2886b46",
   "metadata": {
    "execution": {
     "iopub.execute_input": "2024-04-01T02:13:43.356861Z",
     "iopub.status.busy": "2024-04-01T02:13:43.356489Z",
     "iopub.status.idle": "2024-04-01T02:13:43.367762Z",
     "shell.execute_reply": "2024-04-01T02:13:43.366101Z"
    },
    "papermill": {
     "duration": 0.022766,
     "end_time": "2024-04-01T02:13:43.370595",
     "exception": false,
     "start_time": "2024-04-01T02:13:43.347829",
     "status": "completed"
    },
    "tags": []
   },
   "outputs": [
    {
     "name": "stdout",
     "output_type": "stream",
     "text": [
      "$ 563.1672237629542\n"
     ]
    }
   ],
   "source": [
    "prediction = regression_tree.predict(X_test)\n",
    "\n",
    "print(\"$\",(prediction - Y_test).abs().mean())"
   ]
  },
  {
   "cell_type": "code",
   "execution_count": 11,
   "id": "83a36b04",
   "metadata": {
    "execution": {
     "iopub.execute_input": "2024-04-01T02:13:43.387314Z",
     "iopub.status.busy": "2024-04-01T02:13:43.386900Z",
     "iopub.status.idle": "2024-04-01T02:13:43.421516Z",
     "shell.execute_reply": "2024-04-01T02:13:43.420363Z"
    },
    "papermill": {
     "duration": 0.045537,
     "end_time": "2024-04-01T02:13:43.423745",
     "exception": false,
     "start_time": "2024-04-01T02:13:43.378208",
     "status": "completed"
    },
    "tags": []
   },
   "outputs": [
    {
     "data": {
      "text/html": [
       "<style>#sk-container-id-2 {color: black;background-color: white;}#sk-container-id-2 pre{padding: 0;}#sk-container-id-2 div.sk-toggleable {background-color: white;}#sk-container-id-2 label.sk-toggleable__label {cursor: pointer;display: block;width: 100%;margin-bottom: 0;padding: 0.3em;box-sizing: border-box;text-align: center;}#sk-container-id-2 label.sk-toggleable__label-arrow:before {content: \"▸\";float: left;margin-right: 0.25em;color: #696969;}#sk-container-id-2 label.sk-toggleable__label-arrow:hover:before {color: black;}#sk-container-id-2 div.sk-estimator:hover label.sk-toggleable__label-arrow:before {color: black;}#sk-container-id-2 div.sk-toggleable__content {max-height: 0;max-width: 0;overflow: hidden;text-align: left;background-color: #f0f8ff;}#sk-container-id-2 div.sk-toggleable__content pre {margin: 0.2em;color: black;border-radius: 0.25em;background-color: #f0f8ff;}#sk-container-id-2 input.sk-toggleable__control:checked~div.sk-toggleable__content {max-height: 200px;max-width: 100%;overflow: auto;}#sk-container-id-2 input.sk-toggleable__control:checked~label.sk-toggleable__label-arrow:before {content: \"▾\";}#sk-container-id-2 div.sk-estimator input.sk-toggleable__control:checked~label.sk-toggleable__label {background-color: #d4ebff;}#sk-container-id-2 div.sk-label input.sk-toggleable__control:checked~label.sk-toggleable__label {background-color: #d4ebff;}#sk-container-id-2 input.sk-hidden--visually {border: 0;clip: rect(1px 1px 1px 1px);clip: rect(1px, 1px, 1px, 1px);height: 1px;margin: -1px;overflow: hidden;padding: 0;position: absolute;width: 1px;}#sk-container-id-2 div.sk-estimator {font-family: monospace;background-color: #f0f8ff;border: 1px dotted black;border-radius: 0.25em;box-sizing: border-box;margin-bottom: 0.5em;}#sk-container-id-2 div.sk-estimator:hover {background-color: #d4ebff;}#sk-container-id-2 div.sk-parallel-item::after {content: \"\";width: 100%;border-bottom: 1px solid gray;flex-grow: 1;}#sk-container-id-2 div.sk-label:hover label.sk-toggleable__label {background-color: #d4ebff;}#sk-container-id-2 div.sk-serial::before {content: \"\";position: absolute;border-left: 1px solid gray;box-sizing: border-box;top: 0;bottom: 0;left: 50%;z-index: 0;}#sk-container-id-2 div.sk-serial {display: flex;flex-direction: column;align-items: center;background-color: white;padding-right: 0.2em;padding-left: 0.2em;position: relative;}#sk-container-id-2 div.sk-item {position: relative;z-index: 1;}#sk-container-id-2 div.sk-parallel {display: flex;align-items: stretch;justify-content: center;background-color: white;position: relative;}#sk-container-id-2 div.sk-item::before, #sk-container-id-2 div.sk-parallel-item::before {content: \"\";position: absolute;border-left: 1px solid gray;box-sizing: border-box;top: 0;bottom: 0;left: 50%;z-index: -1;}#sk-container-id-2 div.sk-parallel-item {display: flex;flex-direction: column;z-index: 1;position: relative;background-color: white;}#sk-container-id-2 div.sk-parallel-item:first-child::after {align-self: flex-end;width: 50%;}#sk-container-id-2 div.sk-parallel-item:last-child::after {align-self: flex-start;width: 50%;}#sk-container-id-2 div.sk-parallel-item:only-child::after {width: 0;}#sk-container-id-2 div.sk-dashed-wrapped {border: 1px dashed gray;margin: 0 0.4em 0.5em 0.4em;box-sizing: border-box;padding-bottom: 0.4em;background-color: white;}#sk-container-id-2 div.sk-label label {font-family: monospace;font-weight: bold;display: inline-block;line-height: 1.2em;}#sk-container-id-2 div.sk-label-container {text-align: center;}#sk-container-id-2 div.sk-container {/* jupyter's `normalize.less` sets `[hidden] { display: none; }` but bootstrap.min.css set `[hidden] { display: none !important; }` so we also need the `!important` here to be able to override the default hidden behavior on the sphinx rendered scikit-learn.org. See: https://github.com/scikit-learn/scikit-learn/issues/21755 */display: inline-block !important;position: relative;}#sk-container-id-2 div.sk-text-repr-fallback {display: none;}</style><div id=\"sk-container-id-2\" class=\"sk-top-container\"><div class=\"sk-text-repr-fallback\"><pre>DecisionTreeRegressor()</pre><b>In a Jupyter environment, please rerun this cell to show the HTML representation or trust the notebook. <br />On GitHub, the HTML representation is unable to render, please try loading this page with nbviewer.org.</b></div><div class=\"sk-container\" hidden><div class=\"sk-item\"><div class=\"sk-estimator sk-toggleable\"><input class=\"sk-toggleable__control sk-hidden--visually\" id=\"sk-estimator-id-2\" type=\"checkbox\" checked><label for=\"sk-estimator-id-2\" class=\"sk-toggleable__label sk-toggleable__label-arrow\">DecisionTreeRegressor</label><div class=\"sk-toggleable__content\"><pre>DecisionTreeRegressor()</pre></div></div></div></div></div>"
      ],
      "text/plain": [
       "DecisionTreeRegressor()"
      ]
     },
     "execution_count": 11,
     "metadata": {},
     "output_type": "execute_result"
    }
   ],
   "source": [
    "regression_tree = DecisionTreeRegressor(criterion = 'squared_error')\n",
    "regression_tree.fit(X_train, Y_train)\n"
   ]
  },
  {
   "cell_type": "code",
   "execution_count": 12,
   "id": "23a3fb72",
   "metadata": {
    "execution": {
     "iopub.execute_input": "2024-04-01T02:13:43.440517Z",
     "iopub.status.busy": "2024-04-01T02:13:43.440105Z",
     "iopub.status.idle": "2024-04-01T02:13:43.451188Z",
     "shell.execute_reply": "2024-04-01T02:13:43.450228Z"
    },
    "papermill": {
     "duration": 0.021924,
     "end_time": "2024-04-01T02:13:43.453259",
     "exception": false,
     "start_time": "2024-04-01T02:13:43.431335",
     "status": "completed"
    },
    "tags": []
   },
   "outputs": [
    {
     "data": {
      "text/plain": [
       "-170.6035249469245"
      ]
     },
     "execution_count": 12,
     "metadata": {},
     "output_type": "execute_result"
    }
   ],
   "source": [
    "regression_tree.score(X_test, Y_test)\n"
   ]
  },
  {
   "cell_type": "code",
   "execution_count": 13,
   "id": "295b4748",
   "metadata": {
    "execution": {
     "iopub.execute_input": "2024-04-01T02:13:43.470615Z",
     "iopub.status.busy": "2024-04-01T02:13:43.470261Z",
     "iopub.status.idle": "2024-04-01T02:13:43.480224Z",
     "shell.execute_reply": "2024-04-01T02:13:43.479291Z"
    },
    "papermill": {
     "duration": 0.021381,
     "end_time": "2024-04-01T02:13:43.482385",
     "exception": false,
     "start_time": "2024-04-01T02:13:43.461004",
     "status": "completed"
    },
    "tags": []
   },
   "outputs": [
    {
     "name": "stdout",
     "output_type": "stream",
     "text": [
      "$ 956548.3139988834\n"
     ]
    }
   ],
   "source": [
    "prediction = regression_tree.predict(X_test)\n",
    "print(\"$\",(prediction - Y_test).abs().mean()*1000)"
   ]
  }
 ],
 "metadata": {
  "kaggle": {
   "accelerator": "none",
   "dataSources": [
    {
     "datasetId": 2891730,
     "sourceId": 5206071,
     "sourceType": "datasetVersion"
    }
   ],
   "dockerImageVersionId": 30673,
   "isGpuEnabled": false,
   "isInternetEnabled": true,
   "language": "python",
   "sourceType": "notebook"
  },
  "kernelspec": {
   "display_name": "Python 3",
   "language": "python",
   "name": "python3"
  },
  "language_info": {
   "codemirror_mode": {
    "name": "ipython",
    "version": 3
   },
   "file_extension": ".py",
   "mimetype": "text/x-python",
   "name": "python",
   "nbconvert_exporter": "python",
   "pygments_lexer": "ipython3",
   "version": "3.10.13"
  },
  "papermill": {
   "default_parameters": {},
   "duration": 6.753208,
   "end_time": "2024-04-01T02:13:44.010057",
   "environment_variables": {},
   "exception": null,
   "input_path": "__notebook__.ipynb",
   "output_path": "__notebook__.ipynb",
   "parameters": {},
   "start_time": "2024-04-01T02:13:37.256849",
   "version": "2.5.0"
  }
 },
 "nbformat": 4,
 "nbformat_minor": 5
}
